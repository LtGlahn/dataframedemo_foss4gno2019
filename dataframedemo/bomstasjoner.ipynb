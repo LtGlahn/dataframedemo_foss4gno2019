{
 "cells": [
  {
   "cell_type": "markdown",
   "metadata": {},
   "source": [
    "Importer det vi trenger for geografiske analyser"
   ]
  },
  {
   "cell_type": "code",
   "execution_count": null,
   "metadata": {},
   "outputs": [],
   "source": [
    "import pandas as pd\n",
    "import geopandas as gpd\n",
    "from shapely import wkt"
   ]
  },
  {
   "cell_type": "markdown",
   "metadata": {},
   "source": [
    "Det vi trenger for å lage kart"
   ]
  },
  {
   "cell_type": "code",
   "execution_count": null,
   "metadata": {},
   "outputs": [],
   "source": [
    "import hvplot.pandas\n",
    "from holoviews import opts\n",
    "import cartopy.crs as ccrs\n",
    "\n",
    "# støtte for scroll med mus\n",
    "opts.defaults( \n",
    "    opts.Overlay(\n",
    "        width=900, height=300,\n",
    "        active_tools=['wheel_zoom']\n",
    "))"
   ]
  },
  {
   "cell_type": "markdown",
   "metadata": {},
   "source": [
    "# Last inn bomstasjoner\n",
    "\n",
    "Hint: \n",
    "  - ls lister opp filer. \n",
    "  - Først dataframe\n",
    "    - Pass på tegnsett (encoding='utf-8') og semikolon (sep=';')\n",
    "  - så dataframe['geometry'] =  dataframe['Kolonne med WKT geometri'].apply(wkt.loads)\n",
    "  - til sist lager du geodataframe\n",
    "\n",
    "*NB* For bruk i hvplot må geometrikolonnen hete \"geometry\"\n"
   ]
  },
  {
   "cell_type": "code",
   "execution_count": null,
   "metadata": {},
   "outputs": [],
   "source": [
    "tmp = pd.read_csv( '45_bomstasjon-eksport.csv', sep=';', encoding='latin1')\n",
    "\n",
    "tmp.head()"
   ]
  },
  {
   "cell_type": "code",
   "execution_count": null,
   "metadata": {},
   "outputs": [],
   "source": [
    "tmp[['Geometri, punkt', 'geometri']].head(15)"
   ]
  },
  {
   "cell_type": "markdown",
   "metadata": {},
   "source": [
    "# Bruk _Geometri, linje_ der den finnes\n",
    "\n",
    "Vi ønsker å hente koordinater fra egenskapen _Geometri, punkt_ der den finnes. Hvis den mangler så henter vi plassering fra _geometri_ (avledet fra plassering i nettverket). \n",
    "\n",
    "### Metode 1: Sett verdi basert på betingelser (For vanskelig)\n",
    "\n",
    "Les https://datatofish.com/if-condition-in-pandas-dataframe/ for tips om hvordan du setter \"subslice\" til gitt verdi basert på gitte betingelser. Har funnet mange oppskrifter hvor lambda-funksjonen spiser data fra én (og bare én) kolonne, for så å gjøre ulike ting basert på denne verdien. \n",
    "\n",
    "\n",
    "Mye lærerikt, men det ene tilfellet vi trenger: **Hent fra én kolonne hvis den finnes, hvis ikke henter du fra en annen** viser seg å bli overraskende komplest. \n",
    "\n",
    "### Metode 2: Iterer over hver rad \n",
    "```\n",
    "# tmp = pd.read_csv( '45_bomstasjon-eksport.csv', sep=';', encoding='latin1') # Har lest fra før\n",
    "tmp['geometry'] = ''\n",
    "\n",
    "for index_label, row in tmp.iterrows(): \n",
    "    \n",
    "    minshapelygeom = wkt.loads( row['geometri'] ) \n",
    "    if isinstance( row['Geometri, punkt'], str ): \n",
    "        minshapelygeom = wkt.loads( row['Geometri, punkt'])\n",
    "    \n",
    "    tmp.at[index_label, 'geometry'] = minshapelygeom\n",
    "```\n",
    "Fungerer helt greit, og er ikke for vanskelig\n",
    "\n",
    "### Metode 3: Bruk fillna() for å hente de dataverdiene som mangler fra  kolonnen der vi har data\n",
    "\n",
    "Se under\n"
   ]
  },
  {
   "cell_type": "code",
   "execution_count": null,
   "metadata": {},
   "outputs": [],
   "source": [
    "# tmp = pd.read_csv( '45_bomstasjon-eksport.csv', sep=';', encoding='latin1') # Har lest fra før\n",
    "tmp['Geometri, punkt'].fillna( tmp['geometri'], inplace=True)\n",
    "tmp['geometry'] =  tmp['Geometri, punkt'].apply(wkt.loads)\n",
    "bomstasjon = gpd.GeoDataFrame( tmp, geometry = 'geometry')\n",
    "bomstasjon.crs = { 'init' : 'epsg:25833'}"
   ]
  },
  {
   "cell_type": "code",
   "execution_count": null,
   "metadata": {},
   "outputs": [],
   "source": [
    "tmp[['Geometri, punkt', 'geometri']].head(15)"
   ]
  },
  {
   "cell_type": "code",
   "execution_count": null,
   "metadata": {},
   "outputs": [],
   "source": [
    "bomstasjon['Navn bomstasjon'].fillna( '')\n",
    "# ccrs.UTM(zone=33)\n",
    "bomstasjon.hvplot( crs=ccrs.UTM(zone=33), hover_cols=['vegobjektid', 'Navn bomstasjon'\n",
    "           'Takst liten bil', 'Takst stor bil' 'vegreferanse'], tiles='OSM',\n",
    "            c='Takst liten bil', size=100, frame_height=600 )"
   ]
  }
 ],
 "metadata": {
  "kernelspec": {
   "display_name": "Python [conda env:hvplot]",
   "language": "python",
   "name": "conda-env-hvplot-py"
  },
  "language_info": {
   "codemirror_mode": {
    "name": "ipython",
    "version": 3
   },
   "file_extension": ".py",
   "mimetype": "text/x-python",
   "name": "python",
   "nbconvert_exporter": "python",
   "pygments_lexer": "ipython3",
   "version": "3.7.3"
  }
 },
 "nbformat": 4,
 "nbformat_minor": 2
}
