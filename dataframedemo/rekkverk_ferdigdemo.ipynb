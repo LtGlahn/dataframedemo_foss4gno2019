{
 "cells": [
  {
   "cell_type": "markdown",
   "metadata": {},
   "source": [
    "Importer det vi trenger for geografiske analyser"
   ]
  },
  {
   "cell_type": "code",
   "execution_count": null,
   "metadata": {},
   "outputs": [],
   "source": [
    "import pandas as pd\n",
    "import geopandas as gpd\n",
    "from shapely import wkt"
   ]
  },
  {
   "cell_type": "markdown",
   "metadata": {},
   "source": [
    "Og det vi trenger for fancy kart"
   ]
  },
  {
   "cell_type": "code",
   "execution_count": null,
   "metadata": {},
   "outputs": [],
   "source": [
    "import hvplot.pandas\n",
    "from holoviews import opts\n",
    "import cartopy.crs as ccrs\n",
    "\n",
    "# støtte for scroll med mus\n",
    "opts.defaults( \n",
    "    opts.Overlay(\n",
    "        width=900, height=300,\n",
    "        active_tools=['wheel_zoom']\n",
    "))"
   ]
  },
  {
   "cell_type": "markdown",
   "metadata": {},
   "source": [
    "# Last inn rekkverkdata\n",
    "\n",
    "Hint: \n",
    "  - ls lister opp filer. \n",
    "  - Først dataframe\n",
    "    - Pass på tegnsett (encoding='utf-8') og semikolon (sep=';')\n",
    "  - så dataframe['geometry'] =  dataframe['Kolonne med WKT geometri'].apply(wkt.loads)\n",
    "  - til sist lager du geodataframe\n",
    "\n",
    "*NB* For bruk i hvplot må geometrikolonnen hete \"geometry\"\n",
    "\n",
    "last inn både rekkverksende og rekkverk, i separate tabeller  "
   ]
  },
  {
   "cell_type": "code",
   "execution_count": null,
   "metadata": {},
   "outputs": [],
   "source": [
    "tmp = pd.read_csv( '14_rekkverksende-eksport.csv', sep=';', encoding='latin1')\n",
    "tmp['geometry'] =  tmp['Geometri, punkt'].apply(wkt.loads)\n",
    "rekkverk_ende = gpd.GeoDataFrame( tmp, geometry='geometry' )\n",
    "rekkverk_ende.crs = { 'init' : 'epsg:25833'}"
   ]
  },
  {
   "cell_type": "code",
   "execution_count": null,
   "metadata": {},
   "outputs": [],
   "source": [
    "tmp = pd.read_csv( '5_rekkverk-eksport.csv', sep=';', encoding='latin1')\n",
    "tmp['geometry'] =  tmp['Geometri, linje'].apply(wkt.loads)\n",
    "rekkverk = gpd.GeoDataFrame( tmp, geometry='geometry' )\n",
    "rekkverk.crs = { 'init' : 'epsg:25833'}"
   ]
  },
  {
   "cell_type": "code",
   "execution_count": null,
   "metadata": {},
   "outputs": [],
   "source": [
    "rekkverk_ende[['vegobjektid', 'startdato', 'Type', 'geometry']]"
   ]
  },
  {
   "cell_type": "code",
   "execution_count": null,
   "metadata": {},
   "outputs": [],
   "source": [
    "\n",
    "# ccrs.UTM(zone=33)\n",
    "rekkverk.hvplot( crs=ccrs.UTM(zone=33), hover_cols=['vegobjektid', \n",
    "            'Rekkverkstype', 'Bruksområde','vegreferanse'], colorbar=False, tiles='OSM', \n",
    "            line_width=3)"
   ]
  },
  {
   "cell_type": "code",
   "execution_count": null,
   "metadata": {},
   "outputs": [],
   "source": [
    "plot = rekkverk.hvplot( crs=ccrs.UTM(zone=33), hover_cols=['vegobjektid', \n",
    "            'Rekkverkstype', 'Bruksområde','vegreferanse'], colorbar=False, tiles='OSM', \n",
    "            line_width=3) "
   ]
  },
  {
   "cell_type": "code",
   "execution_count": null,
   "metadata": {},
   "outputs": [],
   "source": [
    "plot * rekkverk_ende.hvplot(crs=ccrs.UTM(zone=33), hover_cols=['Type', 'vegreferanse'], s=100, color='r' )"
   ]
  },
  {
   "cell_type": "code",
   "execution_count": null,
   "metadata": {},
   "outputs": [],
   "source": [
    "rekkverk_ende"
   ]
  },
  {
   "cell_type": "code",
   "execution_count": null,
   "metadata": {},
   "outputs": [],
   "source": [
    "r_ende = rekkverk_ende[ ['vegobjektid', 'type_id', 'Type', 'vegreferanse', 'geometry' ]].copy()"
   ]
  },
  {
   "cell_type": "code",
   "execution_count": null,
   "metadata": {},
   "outputs": [],
   "source": [
    "rekk = rekkverk[['vegobjektid', 'Rekkverkstype', 'Bruksområde', 'Skinneutrustning', 'vegreferanse', 'geometry']].copy()"
   ]
  },
  {
   "cell_type": "code",
   "execution_count": null,
   "metadata": {},
   "outputs": [],
   "source": [
    "gpd.sjoin( rekk, r_ende, how='inner', op='intersects')"
   ]
  },
  {
   "cell_type": "code",
   "execution_count": null,
   "metadata": {},
   "outputs": [],
   "source": [
    "gpd.sjoin( r_ende, rekk, how='inner', op='intersects')\n"
   ]
  },
  {
   "cell_type": "markdown",
   "metadata": {},
   "source": [
    "Merk at join rekkverk, rekkverksende gir to forekomster av samme NVDB objekt _(vegobjektid_left = 671258138)_, ett for hver av rekkverksendene. (To overlapp = to treff). Disse to treffene kan evt aggregeres basert på ID. "
   ]
  }
 ],
 "metadata": {
  "kernelspec": {
   "display_name": "Python [conda env:hvplot]",
   "language": "python",
   "name": "conda-env-hvplot-py"
  },
  "language_info": {
   "codemirror_mode": {
    "name": "ipython",
    "version": 3
   },
   "file_extension": ".py",
   "mimetype": "text/x-python",
   "name": "python",
   "nbconvert_exporter": "python",
   "pygments_lexer": "ipython3",
   "version": "3.7.3"
  }
 },
 "nbformat": 4,
 "nbformat_minor": 2
}
